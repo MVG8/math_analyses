{
 "cells": [
  {
   "cell_type": "raw",
   "metadata": {},
   "source": [
    "\n",
    "На языке Python предложить алгоритм вычисляющий численно предел с точностью eps = 10**(-7)\n",
    " \n",
    "\n"
   ]
  },
  {
   "cell_type": "code",
   "execution_count": 3,
   "metadata": {},
   "outputs": [],
   "source": [
    "import numpy as np\n",
    "from itertools import count"
   ]
  },
  {
   "cell_type": "code",
   "execution_count": 5,
   "metadata": {},
   "outputs": [
    {
     "name": "stdout",
     "output_type": "stream",
     "text": [
      "2.716988423724237 11779\n"
     ]
    }
   ],
   "source": [
    "eps = 10**(-7)\n",
    "\n",
    "#Функция лимита\n",
    "lim_func = lambda n : n * np.prod(np.power(np.arange(2,n+1), -1/n))\n",
    "lim_n_prev = 1\n",
    "\n",
    "for n in count(start=2, step=1):\n",
    "    lim_n = lim_func(n)\n",
    "    if (lim_n - lim_n_prev) <= eps:\n",
    "        print(lim_n, n)\n",
    "        break\n",
    "    else:\n",
    "        lim_n_prev = lim_n"
   ]
  },
  {
   "cell_type": "code",
   "execution_count": null,
   "metadata": {},
   "outputs": [],
   "source": []
  }
 ],
 "metadata": {
  "kernelspec": {
   "display_name": "Python 3",
   "language": "python",
   "name": "python3"
  },
  "language_info": {
   "codemirror_mode": {
    "name": "ipython",
    "version": 3
   },
   "file_extension": ".py",
   "mimetype": "text/x-python",
   "name": "python",
   "nbconvert_exporter": "python",
   "pygments_lexer": "ipython3",
   "version": "3.8.5"
  }
 },
 "nbformat": 4,
 "nbformat_minor": 4
}
