{
 "cells": [
  {
   "cell_type": "markdown",
   "metadata": {},
   "source": [
    "# Зададим множества A,B,C  выполнить все изученные виды бинарных операций над всеми комбинациями множеств.\n"
   ]
  },
  {
   "cell_type": "code",
   "execution_count": 13,
   "metadata": {},
   "outputs": [
    {
     "name": "stdout",
     "output_type": "stream",
     "text": [
      "{4, 5, 'десять'}\n",
      "{5}\n",
      "{11, 5}\n",
      "{1, 2, 3, 6, 7, 8, 'тридцать', 11, 'двадцать'}\n",
      "{1, 2, 3, 4, 'двенадцать', 9, 10, 11, 'двадцать', 'десять'}\n",
      "{4, 6, 7, 8, 'тридцать', 'двенадцать', 9, 10, 'десять'}\n",
      "{1, 2, 3, 4, 5, 6, 7, 8, 'тридцать', 11, 'двадцать', 'десять'}\n",
      "{1, 2, 3, 4, 5, 'двенадцать', 9, 10, 11, 'двадцать', 'десять'}\n",
      "{4, 5, 'двенадцать', 6, 7, 9, 10, 11, 8, 'тридцать', 'десять'}\n",
      "{'двадцать', 1, 2, 3}\n",
      "{1, 2, 3, 4, 'двадцать', 'десять'}\n",
      "{4, 'тридцать', 6, 8, 7, 'десять'}\n"
     ]
    }
   ],
   "source": [
    "A = {1,2,3,4,5,'десять','двадцать'}\n",
    "B = {4,5,6,7,8,11,'десять','тридцать'}\n",
    "C = {9,10,11,5,'двенадцать'}\n",
    "\n",
    "print(A.intersection(B))\n",
    "print(A&C)\n",
    "print(B.intersection(C))\n",
    "print(A.symmetric_difference(B))\n",
    "print(A^C)\n",
    "print(C.symmetric_difference(B))\n",
    "print(B.union(A))\n",
    "print(A|C)\n",
    "print(C.union(B))\n",
    "print(A.difference(B))\n",
    "print(A-C)\n",
    "print(B.difference(C))"
   ]
  },
  {
   "cell_type": "code",
   "execution_count": null,
   "metadata": {},
   "outputs": [],
   "source": []
  }
 ],
 "metadata": {
  "kernelspec": {
   "display_name": "Python 3",
   "language": "python",
   "name": "python3"
  },
  "language_info": {
   "codemirror_mode": {
    "name": "ipython",
    "version": 3
   },
   "file_extension": ".py",
   "mimetype": "text/x-python",
   "name": "python",
   "nbconvert_exporter": "python",
   "pygments_lexer": "ipython3",
   "version": "3.8.5"
  }
 },
 "nbformat": 4,
 "nbformat_minor": 4
}
